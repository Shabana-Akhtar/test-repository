{
 "cells": [
  {
   "cell_type": "markdown",
   "metadata": {},
   "source": [
    "### Homework #2. 9/13/2018 due 9/20/2018\n",
    "\n",
    "\n",
    "Work is to be performed in this Jupyter notebook.\n",
    "\n",
    "Please turn in the working ipynb file(s).\n",
    "\n"
   ]
  },
  {
   "cell_type": "markdown",
   "metadata": {},
   "source": [
    "*** Please provide your code for last class's Lab, where we implemented a k nearest neighbors classifier from scikit. Use the built-in datast of your choice. Provide the following:\n",
    "\n",
    "\n",
    "0.1. Compute accuracy for different values of K using training and test sets\n",
    "\n",
    "\n",
    "0.2. Manually run the classifier for the first data point and give the prediction.\n",
    "\n"
   ]
  },
  {
   "cell_type": "markdown",
   "metadata": {},
   "source": [
    "### Homework Questions:\n",
    "    "
   ]
  },
  {
   "cell_type": "markdown",
   "metadata": {},
   "source": [
    "1. What is the hyperparameter for the k nearest neighbors classifier and why is it used/needed?\n",
    "\n",
    "2. How do we choose its value?\n",
    "\n",
    "3. What does \"overfitting\" mean (as relevant to this lab)?"
   ]
  },
  {
   "cell_type": "code",
   "execution_count": null,
   "metadata": {},
   "outputs": [],
   "source": []
  }
 ],
 "metadata": {
  "kernelspec": {
   "display_name": "Python 3",
   "language": "python",
   "name": "python3"
  },
  "language_info": {
   "codemirror_mode": {
    "name": "ipython",
    "version": 3
   },
   "file_extension": ".py",
   "mimetype": "text/x-python",
   "name": "python",
   "nbconvert_exporter": "python",
   "pygments_lexer": "ipython3",
   "version": "3.6.5"
  }
 },
 "nbformat": 4,
 "nbformat_minor": 2
}
